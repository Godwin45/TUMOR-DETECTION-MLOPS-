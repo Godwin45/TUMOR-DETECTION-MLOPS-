{
 "cells": [
  {
   "cell_type": "code",
   "execution_count": 1,
   "metadata": {},
   "outputs": [],
   "source": [
    "import os"
   ]
  },
  {
   "cell_type": "code",
   "execution_count": 2,
   "metadata": {},
   "outputs": [
    {
     "data": {
      "text/plain": [
       "'c:\\\\Users\\\\User\\\\Desktop\\\\PROJECTS\\\\brain\\\\TUMOR-DETECTION-MLOPS-\\\\research'"
      ]
     },
     "execution_count": 2,
     "metadata": {},
     "output_type": "execute_result"
    }
   ],
   "source": [
    "%pwd"
   ]
  },
  {
   "cell_type": "code",
   "execution_count": 3,
   "metadata": {},
   "outputs": [],
   "source": [
    "os.chdir(\"../\")"
   ]
  },
  {
   "cell_type": "code",
   "execution_count": 4,
   "metadata": {},
   "outputs": [
    {
     "data": {
      "text/plain": [
       "'c:\\\\Users\\\\User\\\\Desktop\\\\PROJECTS\\\\brain\\\\TUMOR-DETECTION-MLOPS-'"
      ]
     },
     "execution_count": 4,
     "metadata": {},
     "output_type": "execute_result"
    }
   ],
   "source": [
    "%pwd"
   ]
  },
  {
   "cell_type": "code",
   "execution_count": 5,
   "metadata": {},
   "outputs": [],
   "source": [
    "from dataclasses import dataclass\n",
    "from pathlib import Path\n",
    "\n",
    "\n",
    "@dataclass(frozen=True)\n",
    "class FeatureConfig:\n",
    "    root_dir: Path\n",
    "    brain_df: Path"
   ]
  },
  {
   "cell_type": "code",
   "execution_count": 6,
   "metadata": {},
   "outputs": [],
   "source": [
    "from cnnClassifier.constants import *\n",
    "from cnnClassifier.utils.common import read_yaml, create_directories"
   ]
  },
  {
   "cell_type": "code",
   "execution_count": 7,
   "metadata": {},
   "outputs": [],
   "source": [
    "class ConfigurationManager:\n",
    "    def __init__(\n",
    "        self, \n",
    "        config_filepath = CONFIG_FILE_PATH,\n",
    "        params_filepath = PARAMS_FILE_PATH):\n",
    "        self.config = read_yaml(config_filepath)\n",
    "        self.params = read_yaml(params_filepath)\n",
    "        create_directories([self.config.artifacts_root])\n",
    "\n",
    "\n",
    "    def get_feature_engineering_config(self) -> FeatureConfig:\n",
    "        config = self.config.feature_engineering\n",
    "        \n",
    "        create_directories([config.root_dir])\n",
    "\n",
    "        feature_eng_config = FeatureConfig(\n",
    "            root_dir=Path(config.root_dir),\n",
    "            brain_df=Path(config.brain_df),\n",
    "          \n",
    "        )\n",
    "\n",
    "        return  feature_eng_config\n"
   ]
  },
  {
   "cell_type": "code",
   "execution_count": 8,
   "metadata": {},
   "outputs": [],
   "source": [
    "import pandas as pd\n",
    "from sklearn.model_selection import train_test_split"
   ]
  },
  {
   "cell_type": "code",
   "execution_count": 24,
   "metadata": {},
   "outputs": [],
   "source": [
    "class FeatureEngineering:\n",
    "    def __init__(self, config:FeatureConfig):\n",
    "        self.config = config\n",
    "        self.brain_df = None\n",
    "        self.brain_df_train = None\n",
    "        self.train = None\n",
    "        self.test = None\n",
    "\n",
    "\n",
    "    def preprocess_data(self):\n",
    "        brain_df = pd.read_csv(self.config.brain_df)\n",
    "        brain_df_train = brain_df.drop(columns=['patient_id'])\n",
    "        brain_df_train['mask'] = brain_df_train['mask'].apply(lambda x: str(x))\n",
    "        train,test = train_test_split(brain_df_train, test_size=0.15)\n",
    "\n",
    "        train_file_path = os.path.join(\"artifacts/data_ingestion/Brain_MRI\", \"train.csv\")\n",
    "        test_file_path = os.path.join(\"artifacts/data_ingestion/Brain_MRI\", \"test.csv\")\n",
    "\n",
    "        train.to_csv(train_file_path, index=False)\n",
    "        test.to_csv(test_file_path, index=False)\n",
    "\n",
    "        print(\"The training and testing CSV files have been saved.\")\n",
    "\n",
    "\n",
    "# Usage\n",
    "# data_processor = DataProcessor('data_mask.csv')\n",
    "# data_processor.load_data()\n",
    "# data_processor.preprocess_data()\n",
    "# data_processor.split_data()"
   ]
  },
  {
   "cell_type": "code",
   "execution_count": 25,
   "metadata": {},
   "outputs": [
    {
     "name": "stdout",
     "output_type": "stream",
     "text": [
      "[2023-07-11 17:12:52,237: INFO: common: yaml file: config\\config.yaml loaded successfully]\n",
      "[2023-07-11 17:12:52,246: INFO: common: yaml file: params.yaml loaded successfully]\n",
      "[2023-07-11 17:12:52,249: INFO: common: created directory at: artifacts]\n",
      "[2023-07-11 17:12:52,252: INFO: common: created directory at: artifacts/data_ingestion/Brain_MRI]\n",
      "The training and testing CSV files have been saved.\n"
     ]
    }
   ],
   "source": [
    "try:\n",
    "    config = ConfigurationManager()\n",
    "    feature_engineering_config = config.get_feature_engineering_config()\n",
    "    feature_engineering = FeatureEngineering(config=feature_engineering_config)\n",
    "    feature_engineering.preprocess_data()\n",
    "   \n",
    "except Exception as e:\n",
    "    raise e"
   ]
  },
  {
   "cell_type": "code",
   "execution_count": null,
   "metadata": {},
   "outputs": [],
   "source": []
  }
 ],
 "metadata": {
  "kernelspec": {
   "display_name": "brain",
   "language": "python",
   "name": "python3"
  },
  "language_info": {
   "codemirror_mode": {
    "name": "ipython",
    "version": 3
   },
   "file_extension": ".py",
   "mimetype": "text/x-python",
   "name": "python",
   "nbconvert_exporter": "python",
   "pygments_lexer": "ipython3",
   "version": "3.8.17"
  },
  "orig_nbformat": 4
 },
 "nbformat": 4,
 "nbformat_minor": 2
}
